{
 "cells": [
  {
   "cell_type": "code",
   "execution_count": 1,
   "metadata": {},
   "outputs": [
    {
     "name": "stderr",
     "output_type": "stream",
     "text": [
      "┌ Warning: Pkg.clone is only kept for legacy CI script reasons, please use `add`\n",
      "└ @ Pkg.API /Users/osx/buildbot/slave/package_osx64/build/usr/share/julia/stdlib/v1.1/Pkg/src/API.jl:386\n"
     ]
    },
    {
     "name": "stdout",
     "output_type": "stream",
     "text": [
      "\u001b[32m\u001b[1m Resolving\u001b[22m\u001b[39m package versions...\n",
      "\u001b[32m\u001b[1m  Updating\u001b[22m\u001b[39m `~/.julia/environments/v1.1/Project.toml`\n",
      "\u001b[90m [no changes]\u001b[39m\n",
      "\u001b[32m\u001b[1m  Updating\u001b[22m\u001b[39m `~/.julia/environments/v1.1/Manifest.toml`\n",
      "\u001b[90m [no changes]\u001b[39m\n"
     ]
    }
   ],
   "source": [
    "# Package Setup\n",
    "import Pkg;\n",
    "# Pkg.update()\n",
    "\n",
    "# Julia Packages\n",
    "using Distributions\n",
    "using LinearAlgebra\n",
    "using Statistics\n",
    "using PGFPlots\n",
    "\n",
    "# Satellite Dynamics Packages\n",
    "using SatelliteDynamics\n",
    "\n",
    "# Load SatelliteTasking - Reclone to keep version current\n",
    "Pkg.clone(\"..\")\n",
    "using SatelliteTasking\n",
    "using SatelliteTasking.Analysis"
   ]
  },
  {
   "cell_type": "code",
   "execution_count": null,
   "metadata": {
    "scrolled": false
   },
   "outputs": [],
   "source": [
    "# Configure simulation\n",
    "epc0 = Epoch(2019, 1, 1, 0, 0, 0, tsys=:UTC) # Start of time span\n",
    "epcf = Epoch(2019, 1, 2, 0, 0, 0, tsys=:UTC) # End of simulation time span\n",
    "\n",
    "# Set Simulation Time Step\n",
    "timestep = 1\n",
    "\n",
    "# Define Satellite Orbit\n",
    "oe   = [R_EARTH + 500e3, 0, 90.0, 0, 0, 0]\n",
    "eci0 = sOSCtoCART(oe, use_degrees=true)\n",
    "\n",
    "# Numer of perturbed orbits to simulate\n",
    "num_orbits = 100\n",
    "\n",
    "# Set Perturbation Values \n",
    "pos_error = 5000 # Position knowledge error [m]\n",
    "vel_error = 5    # Velocity knowledge error [m/s]\n",
    "orb_mean  = zeros(Float64, 6)\n",
    "orb_sdev  = vcat((pos_error/sqrt(3)*ones(Float64, 3))..., (vel_error/sqrt(3)*ones(Float64, 3))...)\n",
    "\n",
    "# Simulate true and perturbed orbits\n",
    "@time true_orbit, perturbed_orbits, eci_errors = simulate_orbits(num_orbits, epc0, epcf, eci0, orb_mean, orb_sdev, timestep=timestep);"
   ]
  },
  {
   "cell_type": "code",
   "execution_count": null,
   "metadata": {
    "scrolled": true
   },
   "outputs": [],
   "source": [
    "# Compute True and perturbed collects\n",
    "\n",
    "# Load test images\n",
    "@time images = load_images(\"../data/landsat_test.json\");\n",
    "\n",
    "@time true_collects, perturbed_collects, mean_diff, sdev_diff, missing_collects  = compute_perturbed_collects(true_orbit, perturbed_orbits, images, epc_step=3600);"
   ]
  },
  {
   "cell_type": "code",
   "execution_count": null,
   "metadata": {
    "scrolled": true
   },
   "outputs": [],
   "source": [
    "# println(hcat(mean_diff...))\n",
    "println(sdev_diff[1,:])\n",
    "println(sdev_diff[2,:])\n",
    "println(sdev_diff[3,:])\n",
    "println(missing_collects)"
   ]
  },
  {
   "cell_type": "code",
   "execution_count": null,
   "metadata": {},
   "outputs": [],
   "source": [
    "Axis([\n",
    "    Plots.Linear(1:24, sdev_diff[1, :], legendentry=\"Start of Window\")\n",
    "    Plots.Linear(1:24, sdev_diff[2, :], legendentry=\"End of Window\")\n",
    "    Plots.Linear(1:24, sdev_diff[3, :], legendentry=\"Window Duration\")\n",
    "    Plots.Linear(1:24, missing_collects, legendentry=\"Number of Missing Collects\")\n",
    "], width=\"10cm\", height=\"10cm\", legendPos=\"north west\")"
   ]
  },
  {
   "cell_type": "code",
   "execution_count": null,
   "metadata": {},
   "outputs": [],
   "source": []
  }
 ],
 "metadata": {
  "kernelspec": {
   "display_name": "Julia 1.1.0",
   "language": "julia",
   "name": "julia-1.1"
  },
  "language_info": {
   "file_extension": ".jl",
   "mimetype": "application/julia",
   "name": "julia",
   "version": "1.1.0"
  }
 },
 "nbformat": 4,
 "nbformat_minor": 2
}
