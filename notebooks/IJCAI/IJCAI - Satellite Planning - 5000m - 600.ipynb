{
 "cells": [
  {
   "cell_type": "code",
   "execution_count": null,
   "metadata": {},
   "outputs": [],
   "source": [
    "# Package Setup\n",
    "import Pkg;\n",
    "# Pkg.update()\n",
    "\n",
    "# Julia Packages\n",
    "using Distributions\n",
    "using LinearAlgebra\n",
    "using Statistics\n",
    "using PGFPlots\n",
    "using JuMP\n",
    "using Gurobi\n",
    "\n",
    "# Enable Revision of Development packages\n",
    "using Revise\n",
    "\n",
    "# Satellite Dynamics Packages\n",
    "using SatelliteDynamics\n",
    "\n",
    "# Load SatelliteTasking - Reclone to keep version current\n",
    "using SatelliteTasking\n",
    "using SatelliteTasking.SatellitePlanning\n",
    "using SatelliteTasking.Analysis"
   ]
  },
  {
   "cell_type": "code",
   "execution_count": null,
   "metadata": {},
   "outputs": [],
   "source": [
    "# Configure simulation\n",
    "epc0 = Epoch(2019, 1, 1, 0, 0, 0, tsys=:UTC) # Start of time span\n",
    "epcf = Epoch(2019, 1, 2, 0, 0, 0, tsys=:UTC) # End of simulation time span\n",
    "\n",
    "# Set Simulation Time Step\n",
    "timestep = 1\n",
    "dtmax    = 5\n",
    "\n",
    "# Define Satellite Orbit\n",
    "oe   = [R_EARTH + 500e3, 0, 90.0, 0, 0, 0]\n",
    "eci0 = sOSCtoCART(oe, use_degrees=true)\n",
    "\n",
    "# Numer of perturbed orbits to simulate\n",
    "num_orbits = 110\n",
    "\n",
    "# Set Perturbation Values \n",
    "pos_error = 5000 # Position knowledge error [m]\n",
    "vel_error = 5    # Velocity knowledge error [m/s]\n",
    "orb_mean  = zeros(Float64, 6)\n",
    "orb_sdev  = vcat((pos_error/sqrt(3)*ones(Float64, 3))..., (vel_error/sqrt(3)*ones(Float64, 3))...)\n",
    "\n",
    "# Simulate true and perturbed orbits\n",
    "@time true_orbit, perturbed_orbits, eci_errors = simulate_orbits(num_orbits, epc0, epcf, eci0, orb_mean, orb_sdev, timestep=timestep, dtmax=dtmax);"
   ]
  },
  {
   "cell_type": "code",
   "execution_count": null,
   "metadata": {
    "scrolled": true
   },
   "outputs": [],
   "source": [
    "# Compute True and perturbed collects\n",
    "\n",
    "# Load test images\n",
    "# @time images = load_images(\"../data/landsat_test_150.json\", collect_duration=5.0);\n",
    "# @time images = load_images(\"../data/landsat_test_300.json\", collect_duration=5.0);\n",
    "@time images = load_images(\"../data/landsat_test_600.json\", collect_duration=5.0);\n",
    "num_images = length(images)\n",
    "\n",
    "# Compute true and perturbed opportunities\n",
    "@time true_opportunities, perturbed_opportunities, mean_diff, sdev_diff, missing_opportunities = compute_perturbed_opportunities(true_orbit, perturbed_orbits, images, epc_step=3600);\n",
    "\n",
    "# \n",
    "@time collects = split_opportunities(true_opportunities, 10);\n",
    "\n",
    "# Compute feasible collects\n",
    "image_collects = group_image_collects(collects) # Group collects by image\n",
    "num_feasible   = 0\n",
    "for img in keys(image_collects)\n",
    "    if length(image_collects[img]) > 0\n",
    "        num_feasible += 1\n",
    "    end\n",
    "end\n",
    "pct_feasible = num_feasible/num_images*100\n",
    "\n",
    "println(\"$num_feasible out of $num_images images have collection opportunities.\")"
   ]
  },
  {
   "cell_type": "code",
   "execution_count": null,
   "metadata": {},
   "outputs": [],
   "source": [
    "println(sdev_diff[1, :])\n",
    "println(sdev_diff[2, :])\n",
    "println(sdev_diff[3, :])\n",
    "println(missing_opportunities)"
   ]
  },
  {
   "cell_type": "code",
   "execution_count": null,
   "metadata": {},
   "outputs": [],
   "source": [
    "# Plot Differences in Opportunities\n",
    "Axis([\n",
    "    Plots.Linear(1:24, sdev_diff[1, :], legendentry=\"Start of Window\")\n",
    "    Plots.Linear(1:24, sdev_diff[2, :], legendentry=\"End of Window\")\n",
    "    Plots.Linear(1:24, sdev_diff[3, :], legendentry=\"Window Duration\")\n",
    "    Plots.Linear(1:24, missing_opportunities, legendentry=\"Number of Missing Opportunities\")\n",
    "], width=\"10cm\", height=\"10cm\", legendPos=\"north west\", xmin=0, xmax=24, ymin=0)"
   ]
  },
  {
   "cell_type": "code",
   "execution_count": null,
   "metadata": {},
   "outputs": [],
   "source": [
    "# Graph planning\n",
    "@time path, reward, image_list = sp_graph_policy(collects, Function[constraint_agility_single_axis], horizon=0.0, allow_repeats=false)\n",
    "graph_path, graph_reward, graph_image_list = path, reward, image_list\n",
    "\n",
    "println(\"Total planning reward: $reward\")\n",
    "println(\"Number of images collected: $(length(image_list))/$num_images, $(length(image_list)/num_images*100)\")\n",
    "println(\"Number of feasible images collected: $(length(image_list))/$num_feasible, $(length(image_list)/num_feasible*100)\")\n",
    "\n",
    "graph_feasible = sp_check_feasibility(graph_path, Function[constraint_agility_single_axis])\n",
    "println(\"GRAPH Constraint Check: $(graph_feasible ? \"PASS\" : \"FAIL\")\")"
   ]
  },
  {
   "cell_type": "code",
   "execution_count": null,
   "metadata": {},
   "outputs": [],
   "source": [
    "# MILP planning\n",
    "@time path, reward, image_list = sp_milp_policy(collects, Function[constraint_agility_single_axis], horizon=0.0, allow_repeats=false)\n",
    "milp_path, milp_reward, milp_image_list = path, reward, image_list\n",
    "\n",
    "println(\"Total planning reward: $reward\")\n",
    "println(\"Number of images collected: $(length(image_list))/$num_images, $(length(image_list)/num_images*100)\")\n",
    "println(\"Number of feasible images collected: $(length(image_list))/$num_feasible, $(length(image_list)/num_feasible*100)\")\n",
    "\n",
    "milp_feasible = sp_check_feasibility(milp_path, Function[constraint_agility_single_axis])\n",
    "println(\"MILP Constraint Check: $(milp_feasible ? \"PASS\" : \"FAIL\")\")"
   ]
  },
  {
   "cell_type": "code",
   "execution_count": null,
   "metadata": {},
   "outputs": [],
   "source": [
    "# MDP Planning\n",
    "\n",
    "# Pre-compute collect probability\n",
    "@time collect_probs = compute_collect_probability(collects, perturbed_opportunities[1:10]);"
   ]
  },
  {
   "cell_type": "code",
   "execution_count": null,
   "metadata": {},
   "outputs": [],
   "source": [
    "# Test MDP Forward Search Solution\n",
    "@time path, reward, image_list = mdp_forward_search(collects, Function[constraint_agility_single_axis], \n",
    "                                                    images, collect_probs,\n",
    "                                                    horizon=4000, gamma=0.7, search_depth=1);\n",
    "\n",
    "mdp_path, mdp_reward, mdp_image_list = path, reward, image_list\n",
    "\n",
    "println(\"Total planning reward: $reward\")\n",
    "println(\"Number of images collected: $(length(image_list))/$num_images, $(length(image_list)/num_images*100)\")\n",
    "println(\"Number of feasible images collected: $(length(image_list))/$num_feasible, $(length(image_list)/num_feasible*100)\")\n",
    "\n",
    "mdp_feasible = sp_check_feasibility(path, Function[constraint_agility_single_axis])\n",
    "println(\"MDP Constraint Check: $(mdp_feasible ? \"PASS\" : \"FAIL\")\")"
   ]
  },
  {
   "cell_type": "code",
   "execution_count": null,
   "metadata": {},
   "outputs": [],
   "source": [
    "realized_rewards, mean_reward, sdev_reward = sp_compute_collect(graph_path, perturbed_opportunities[11:end])"
   ]
  },
  {
   "cell_type": "code",
   "execution_count": null,
   "metadata": {},
   "outputs": [],
   "source": [
    "realized_rewards, mean_reward, sdev_reward = sp_compute_collect(milp_path, perturbed_opportunities[11:end])"
   ]
  },
  {
   "cell_type": "code",
   "execution_count": null,
   "metadata": {},
   "outputs": [],
   "source": [
    "realized_rewards, mean_reward, sdev_reward = sp_compute_collect(mdp_path, perturbed_opportunities[11:end])"
   ]
  },
  {
   "cell_type": "code",
   "execution_count": null,
   "metadata": {},
   "outputs": [],
   "source": []
  }
 ],
 "metadata": {
  "@webio": {
   "lastCommId": null,
   "lastKernelId": null
  },
  "kernelspec": {
   "display_name": "Julia 1.1.0",
   "language": "julia",
   "name": "julia-1.1"
  },
  "language_info": {
   "file_extension": ".jl",
   "mimetype": "application/julia",
   "name": "julia",
   "version": "1.1.0"
  }
 },
 "nbformat": 4,
 "nbformat_minor": 2
}
