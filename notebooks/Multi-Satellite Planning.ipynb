{
 "cells": [
  {
   "cell_type": "code",
   "execution_count": 1,
   "metadata": {},
   "outputs": [
    {
     "name": "stderr",
     "output_type": "stream",
     "text": [
      "┌ Info: Recompiling stale cache file /Users/deddy/.julia/compiled/v1.1/Revise/M1Qoh.ji for Revise [295af30f-e4ad-537b-8983-00126c2a3abe]\n",
      "└ @ Base loading.jl:1184\n",
      "┌ Info: Recompiling stale cache file /Users/deddy/.julia/compiled/v1.1/Distributions/xILW0.ji for Distributions [31c24e10-a181-5473-b8eb-7969acd0382f]\n",
      "└ @ Base loading.jl:1184\n",
      "┌ Info: Recompiling stale cache file /Users/deddy/.julia/compiled/v1.1/PGFPlots/XxINN.ji for PGFPlots [3b7a836e-365b-5785-a47d-02c71176b4aa]\n",
      "└ @ Base loading.jl:1184\n",
      "┌ Info: Recompiling stale cache file /Users/deddy/.julia/compiled/v1.1/SatelliteDynamics/9LFbr.ji for SatelliteDynamics [0e7c1a32-1b9f-5532-88a4-e668712d6a4c]\n",
      "└ @ Base loading.jl:1184\n",
      "┌ Info: Recompiling stale cache file /Users/deddy/.julia/compiled/v1.1/SatelliteTasking/HFrko.ji for SatelliteTasking [30f2e302-0ae1-11e9-1cda-0f4324764595]\n",
      "└ @ Base loading.jl:1184\n"
     ]
    },
    {
     "name": "stdout",
     "output_type": "stream",
     "text": [
      "\u001b[32m\u001b[1m  Updating\u001b[22m\u001b[39m registry at `~/.julia/registries/General`\n",
      "\u001b[32m\u001b[1m  Updating\u001b[22m\u001b[39m git-repo `https://github.com/JuliaRegistries/General.git`\n",
      "\u001b[?25l\u001b[2K\u001b[?25h\u001b[32m\u001b[1m Resolving\u001b[22m\u001b[39m package versions...\n",
      "\u001b[32m\u001b[1m  Updating\u001b[22m\u001b[39m `~/Stanford/repos/SatelliteTasking.jl/Project.toml`\n",
      "\u001b[90m [no changes]\u001b[39m\n",
      "\u001b[32m\u001b[1m  Updating\u001b[22m\u001b[39m `~/Stanford/repos/SatelliteTasking.jl/Manifest.toml`\n",
      "\u001b[90m [no changes]\u001b[39m\n",
      "\u001b[32m\u001b[1m Resolving\u001b[22m\u001b[39m package versions...\n",
      "\u001b[32m\u001b[1m  Updating\u001b[22m\u001b[39m `~/Stanford/repos/SatelliteTasking.jl/Project.toml`\n",
      "\u001b[90m [no changes]\u001b[39m\n",
      "\u001b[32m\u001b[1m  Updating\u001b[22m\u001b[39m `~/Stanford/repos/SatelliteTasking.jl/Manifest.toml`\n",
      "\u001b[90m [no changes]\u001b[39m\n"
     ]
    }
   ],
   "source": [
    "# Package Setup\n",
    "import Pkg;\n",
    "# Pkg.update()\n",
    "\n",
    "# Allow for package development\n",
    "using Revise\n",
    "\n",
    "# Julia Packages\n",
    "using Distributions\n",
    "using LinearAlgebra\n",
    "using Statistics\n",
    "using PGFPlots\n",
    "\n",
    "# Temporary for now\n",
    "# Pkg.add(\"JuMP\")\n",
    "# Pkg.add(\"Gurobi\")\n",
    "using JuMP\n",
    "using Gurobi\n",
    "\n",
    "# Satellite Dynamics Packages\n",
    "using SatelliteDynamics\n",
    "\n",
    "# Load SatelliteTasking - Reclone to keep version current\n",
    "# Pkg.clone(\"..\") # For some reason this doens't work with Pkg.add + PackageSpec. Why?\n",
    "using SatelliteTasking\n",
    "using SatelliteTasking.SatellitePlanning\n",
    "using SatelliteTasking.Analysis"
   ]
  },
  {
   "cell_type": "code",
   "execution_count": 2,
   "metadata": {},
   "outputs": [
    {
     "name": "stdout",
     "output_type": "stream",
     "text": [
      "  0.399942 seconds (1.23 M allocations: 64.049 MiB, 6.39% gc time)\n",
      "Loaded 150 images.\n"
     ]
    }
   ],
   "source": [
    "# Load Image Data\n",
    "\n",
    "# Load test images\n",
    "# @time images = load_images(\"../data/landsat_test_150.json\", collect_duration=5.0);\n",
    "@time images = load_images(\"../data/landsat_test_300.json\", collect_duration=5.0);\n",
    "# @time images = load_images(\"../data/landsat_test_600.json\", collect_duration=5.0);\n",
    "num_images = length(images)\n",
    "\n",
    "println(\"Loaded $num_images images.\")"
   ]
  },
  {
   "cell_type": "code",
   "execution_count": 8,
   "metadata": {},
   "outputs": [
    {
     "data": {
      "text/plain": [
       "true"
      ]
     },
     "execution_count": 8,
     "metadata": {},
     "output_type": "execute_result"
    }
   ],
   "source": [
    "# Simulation Definition\n",
    "\n",
    "# Configure simulation\n",
    "epc0 = Epoch(2019, 1, 1, 0, 0, 0, tsys=:UTC) # Start of time span\n",
    "epcf = Epoch(2019, 1, 2, 0, 0, 0, tsys=:UTC) # End of simulation time span\n",
    "\n",
    "# Set Simulation Time Step\n",
    "timestep = 1\n",
    "\n",
    "# Define Satellite Orbit\n",
    "oe   = [R_EARTH + 500e3, 0, 90.0, 0, 0, 0]\n",
    "eci0 = sOSCtoCART(oe, use_degrees=true)\n",
    "\n",
    "# Spacecraft model parameters\n",
    "mass      = 100.0 # [kg]\n",
    "area_drag = 1.0   # [m^2]\n",
    "coef_drag = 2.3\n",
    "area_srp  = 1.0   # [m^2]\n",
    "coef_srp  = 1.8\n",
    "\n",
    "# Define force model parameters\n",
    "n_grav = 20\n",
    "m_grav = 20\n",
    "drag   = true\n",
    "srp    = true\n",
    "sun    = true\n",
    "moon   = true\n",
    "relativity = true"
   ]
  },
  {
   "cell_type": "code",
   "execution_count": 4,
   "metadata": {},
   "outputs": [
    {
     "name": "stdout",
     "output_type": "stream",
     "text": [
      " 68.577802 seconds (1.38 G allocations: 34.493 GiB, 8.09% gc time)\n"
     ]
    },
    {
     "data": {
      "text/plain": [
       "Orbit(0)"
      ]
     },
     "execution_count": 4,
     "metadata": {},
     "output_type": "execute_result"
    }
   ],
   "source": [
    "# Simulate Orbit\n",
    "\n",
    "# Simulate True Orbit\n",
    "@time orbit = Orbit(epc0, epcf, eci0, timestep=timestep,\n",
    "                    mass=mass, area_drag=area_drag, coef_drag=coef_drag, \n",
    "                    area_srp=area_srp, coef_srp=coef_srp, \n",
    "                    n_grav=n_grav, m_grav=m_grav, \n",
    "                    drag=drag, srp=srp, moon=moon, sun=sun, relativity=relativity)"
   ]
  },
  {
   "cell_type": "code",
   "execution_count": 11,
   "metadata": {},
   "outputs": [
    {
     "name": "stdout",
     "output_type": "stream",
     "text": [
      " 12.566471 seconds (168.49 M allocations: 17.781 GiB, 15.38% gc time)\n",
      "  0.001881 seconds (11.90 k allocations: 670.422 KiB)\n"
     ]
    }
   ],
   "source": [
    "# Compute Opportunities & Collects\n",
    "\n",
    "# Compute Opportunities\n",
    "@time true_opportunities = find_all_opportunities(orbit, images, sort=true);\n",
    "\n",
    "# Compute Split Opportunities\n",
    "@time opportunities = split_opportunities(true_opportunities, 3);"
   ]
  },
  {
   "cell_type": "code",
   "execution_count": 6,
   "metadata": {},
   "outputs": [],
   "source": [
    "# Graph Planning\n",
    "\n"
   ]
  }
 ],
 "metadata": {
  "kernelspec": {
   "display_name": "Julia 1.1.0",
   "language": "julia",
   "name": "julia-1.1"
  },
  "language_info": {
   "file_extension": ".jl",
   "mimetype": "application/julia",
   "name": "julia",
   "version": "1.1.0"
  }
 },
 "nbformat": 4,
 "nbformat_minor": 2
}
