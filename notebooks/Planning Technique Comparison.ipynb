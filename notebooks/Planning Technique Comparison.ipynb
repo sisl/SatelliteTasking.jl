{
 "cells": [
  {
   "cell_type": "code",
   "execution_count": 1,
   "metadata": {},
   "outputs": [
    {
     "name": "stderr",
     "output_type": "stream",
     "text": [
      "┌ Info: Recompiling stale cache file /Users/deddy/.julia/compiled/v1.1/SatelliteTasking/HFrko.ji for SatelliteTasking [30f2e302-0ae1-11e9-1cda-0f4324764595]\n",
      "└ @ Base loading.jl:1184\n"
     ]
    }
   ],
   "source": [
    "# Package Setup\n",
    "import Pkg;\n",
    "\n",
    "# Julia Packages\n",
    "using Distributions\n",
    "using LinearAlgebra\n",
    "using Statistics\n",
    "using PGFPlots\n",
    "\n",
    "# Temporary for now\n",
    "using JuMP\n",
    "using Gurobi\n",
    "\n",
    "# Allow for easy updating\n",
    "using Revise\n",
    "\n",
    "# Satellite Dynamics Packages\n",
    "using SatelliteDynamics\n",
    "\n",
    "# Load SatelliteTasking - Reclone to keep version current\n",
    "using SatelliteTasking\n",
    "using SatelliteTasking.SatellitePlanning\n",
    "using SatelliteTasking.Analysis"
   ]
  },
  {
   "cell_type": "code",
   "execution_count": 2,
   "metadata": {},
   "outputs": [
    {
     "name": "stdout",
     "output_type": "stream",
     "text": [
      "  0.425053 seconds (1.25 M allocations: 64.979 MiB, 5.04% gc time)\n",
      "Loaded 600 images.\n"
     ]
    }
   ],
   "source": [
    "# Load Image Data\n",
    "\n",
    "# Load test images\n",
    "# @time images = load_images(\"../data/landsat_test_150.json\", collect_duration=5.0);\n",
    "# @time images = load_images(\"../data/landsat_test_300.json\", collect_duration=5.0);\n",
    "@time images = load_images(\"../data/landsat_test_600.json\", collect_duration=5.0);\n",
    "num_images = length(images)\n",
    "\n",
    "println(\"Loaded $num_images images.\")"
   ]
  },
  {
   "cell_type": "code",
   "execution_count": 3,
   "metadata": {},
   "outputs": [
    {
     "data": {
      "text/plain": [
       "true"
      ]
     },
     "execution_count": 3,
     "metadata": {},
     "output_type": "execute_result"
    }
   ],
   "source": [
    "# Simulation Definition\n",
    "\n",
    "# Configure simulation\n",
    "epc0 = Epoch(2019, 1, 1, 0, 0, 0, tsys=:UTC) # Start of time span\n",
    "epcf = Epoch(2019, 1, 2, 0, 0, 0, tsys=:UTC) # End of simulation time span\n",
    "\n",
    "# Set Simulation Time Step\n",
    "timestep = 1\n",
    "\n",
    "# Define Satellite Orbit\n",
    "oe   = [R_EARTH + 500e3, 0, 90.0, 0, 0, 0]\n",
    "eci0 = sOSCtoCART(oe, use_degrees=true)\n",
    "\n",
    "# UNCOMMENT AND PASS AS KEYWORD TO ORBIT TO OVERRIDE DEFAULT VALUE\n",
    "# # Spacecraft model parameters\n",
    "# mass      = 100.0 # [kg]\n",
    "# area_drag = 1.0   # [m^2]\n",
    "# coef_drag = 2.3\n",
    "# area_srp  = 1.0   # [m^2]\n",
    "# coef_srp  = 1.8\n",
    "\n",
    "# # Define force model parameters\n",
    "# n_grav = 20\n",
    "# m_grav = 20\n",
    "# drag   = true\n",
    "# srp    = true\n",
    "# sun    = true\n",
    "# moon   = true\n",
    "# relativity = true"
   ]
  },
  {
   "cell_type": "code",
   "execution_count": 4,
   "metadata": {},
   "outputs": [
    {
     "name": "stdout",
     "output_type": "stream",
     "text": [
      " 74.888525 seconds (1.38 G allocations: 34.545 GiB, 6.75% gc time)\n"
     ]
    },
    {
     "data": {
      "text/plain": [
       "Orbit(0)"
      ]
     },
     "execution_count": 4,
     "metadata": {},
     "output_type": "execute_result"
    }
   ],
   "source": [
    "# Simulate Orbit\n",
    "\n",
    "# Simulate True Orbit\n",
    "@time orbit = Orbit(epc0, epcf, eci0, timestep=timestep)"
   ]
  },
  {
   "cell_type": "code",
   "execution_count": 5,
   "metadata": {
    "scrolled": false
   },
   "outputs": [
    {
     "name": "stdout",
     "output_type": "stream",
     "text": [
      " 51.656006 seconds (674.43 M allocations: 71.150 GiB, 13.34% gc time)\n",
      "  0.175303 seconds (362.09 k allocations: 18.727 MiB, 2.16% gc time)\n",
      "552 out of 600 images have collection opportunities.\n"
     ]
    }
   ],
   "source": [
    "# Compute Opportunities & Collects\n",
    "\n",
    "# Compute Opportunities\n",
    "@time original_opportunities = find_all_opportunities(orbit, images, sort=true);\n",
    "\n",
    "# Compute Collects\n",
    "@time opportunities = split_opportunities(original_opportunities, 3);\n",
    "\n",
    "# Compute feasible collects\n",
    "image_opps   = group_image_opportunities(opportunities) # Group collects by image\n",
    "num_feasible = 0\n",
    "for opps in keys(image_opps)\n",
    "    if length(image_opps[opps]) > 0\n",
    "        num_feasible += 1\n",
    "    end\n",
    "end\n",
    "pct_feasible = num_feasible/num_images*100\n",
    "\n",
    "println(\"$num_feasible out of $num_images images have collection opportunities.\")"
   ]
  },
  {
   "cell_type": "code",
   "execution_count": 6,
   "metadata": {},
   "outputs": [
    {
     "name": "stdout",
     "output_type": "stream",
     "text": [
      "  6.544192 seconds (21.59 M allocations: 1.569 GiB, 12.42% gc time)\n",
      "  7.420195 seconds (70.13 M allocations: 5.499 GiB, 20.55% gc time)\n",
      "Total planning reward: 525.0\n",
      "Number of images collected: 525/600, 87.5\n",
      "Number of feasible images collected: 525/552, 95.1086956521739\n",
      "GRAPH Constraint Check: PASS\n"
     ]
    }
   ],
   "source": [
    "# Graph Planning\n",
    "\n",
    "@time graph = sp_construct_graph(opportunities, Function[constraint_agility_single_axis], horizon=0.0);\n",
    "\n",
    "@time graph_path, graph_reward, graph_images = sp_solve_graph(graph, allow_repeats=false);\n",
    "\n",
    "println(\"Total planning reward: $graph_reward\")\n",
    "println(\"Number of images collected: $(length(graph_images))/$num_images, $(length(graph_images)/num_images*100)\")\n",
    "println(\"Number of feasible images collected: $(length(graph_images))/$num_feasible, $(length(graph_images)/num_feasible*100)\")\n",
    "\n",
    "\n",
    "graph_feasible = sp_check_feasibility(graph_path, Function[constraint_agility_single_axis]);\n",
    "println(\"GRAPH Constraint Check: $(graph_feasible ? \"PASS\" : \"FAIL\")\")"
   ]
  },
  {
   "cell_type": "code",
   "execution_count": 7,
   "metadata": {},
   "outputs": [
    {
     "name": "stdout",
     "output_type": "stream",
     "text": [
      "Academic license - for non-commercial use only\n",
      "Academic license - for non-commercial use only\n",
      "Optimize a model with 70959 rows, 5575 columns and 146389 nonzeros\n",
      "Variable types: 0 continuous, 5575 integer (5575 binary)\n",
      "Coefficient statistics:\n",
      "  Matrix range     [1e+00, 1e+00]\n",
      "  Objective range  [1e+00, 1e+00]\n",
      "  Bounds range     [0e+00, 0e+00]\n",
      "  RHS range        [1e+00, 1e+00]\n",
      "Found heuristic solution: objective 520.0000000\n",
      "Presolve removed 65950 rows and 3215 columns\n",
      "Presolve time: 0.75s\n",
      "Presolved: 5009 rows, 2360 columns, 56526 nonzeros\n",
      "Found heuristic solution: objective 531.0000000\n",
      "Variable types: 0 continuous, 2360 integer (2360 binary)\n",
      "\n",
      "Root relaxation: objective 5.430000e+02, 990 iterations, 0.09 seconds\n",
      "\n",
      "    Nodes    |    Current Node    |     Objective Bounds      |     Work\n",
      " Expl Unexpl |  Obj  Depth IntInf | Incumbent    BestBd   Gap | It/Node Time\n",
      "\n",
      "H    0     0                     543.0000000 2671.00000   392%     -    0s\n",
      "     0     0          -    0       543.00000  543.00000  0.00%     -    0s\n",
      "\n",
      "Explored 0 nodes (2458 simplex iterations) in 0.97 seconds\n",
      "Thread count was 12 (of 12 available processors)\n",
      "\n",
      "Solution count 4: 543 531 520 479 \n",
      "\n",
      "Optimal solution found (tolerance 1.00e-04)\n",
      "Best objective 5.430000000000e+02, best bound 5.430000000000e+02, gap 0.0000%\n",
      " 20.621546 seconds (102.61 M allocations: 3.840 GiB, 8.74% gc time)\n",
      "Total planning reward: 543.0\n",
      "Number of images collected: 543/600, 90.5\n",
      "Number of feasible images collected: 543/552, 98.36956521739131\n",
      "MILP Constraint Check: PASS\n"
     ]
    }
   ],
   "source": [
    "# MILP planning\n",
    "@time milp_path, milp_reward, milp_images = sp_milp_policy(opportunities, Function[constraint_agility_single_axis], horizon=0.0, allow_repeats=false)\n",
    "\n",
    "println(\"Total planning reward: $milp_reward\")\n",
    "println(\"Number of images collected: $(length(milp_images))/$num_images, $(length(milp_images)/num_images*100)\")\n",
    "println(\"Number of feasible images collected: $(length(milp_images))/$num_feasible, $(length(milp_images)/num_feasible*100)\")\n",
    "\n",
    "milp_feasible = sp_check_feasibility(milp_path, Function[constraint_agility_single_axis])\n",
    "println(\"MILP Constraint Check: $(milp_feasible ? \"PASS\" : \"FAIL\")\")"
   ]
  },
  {
   "cell_type": "code",
   "execution_count": 9,
   "metadata": {},
   "outputs": [
    {
     "name": "stdout",
     "output_type": "stream",
     "text": [
      "Number of all locations: 600, Opportunityed: 475, Missed: 125\n",
      "  7.641543 seconds (24.89 M allocations: 1.879 GiB, 6.24% gc time)\n",
      "Total planning reward: 475.0\n",
      "Number of images collected: 475/600, 79.16666666666666\n",
      "Number of feasible images collected: 475/552, 86.05072463768117\n",
      "MDP Constraint Check: PASS\n"
     ]
    }
   ],
   "source": [
    "# MDP planning\n",
    "\n",
    "collect_probs = Dict(o => 1.0 for o in opportunities)\n",
    "\n",
    "@time mdp_path, mdp_reward, mdp_images = mdp_forward_search(opportunities, Function[constraint_agility_single_axis], \n",
    "                                                            images, collect_probs, horizon=4000, gamma=0.7, search_depth=1);\n",
    "\n",
    "println(\"Total planning reward: $mdp_reward\")\n",
    "println(\"Number of images collected: $(length(mdp_images))/$num_images, $(length(mdp_images)/num_images*100)\")\n",
    "println(\"Number of feasible images collected: $(length(mdp_images))/$num_feasible, $(length(mdp_images)/num_feasible*100)\")\n",
    "\n",
    "mdp_feasible = sp_check_feasibility(mdp_path, Function[constraint_agility_single_axis])\n",
    "println(\"MDP Constraint Check: $(mdp_feasible ? \"PASS\" : \"FAIL\")\")"
   ]
  },
  {
   "cell_type": "code",
   "execution_count": null,
   "metadata": {},
   "outputs": [],
   "source": []
  }
 ],
 "metadata": {
  "@webio": {
   "lastCommId": null,
   "lastKernelId": null
  },
  "kernelspec": {
   "display_name": "Julia 1.1.0",
   "language": "julia",
   "name": "julia-1.1"
  },
  "language_info": {
   "file_extension": ".jl",
   "mimetype": "application/julia",
   "name": "julia",
   "version": "1.1.0"
  }
 },
 "nbformat": 4,
 "nbformat_minor": 2
}
