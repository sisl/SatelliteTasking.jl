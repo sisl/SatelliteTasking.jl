{
 "cells": [
  {
   "cell_type": "code",
   "execution_count": 1,
   "metadata": {},
   "outputs": [
    {
     "name": "stderr",
     "output_type": "stream",
     "text": [
      "┌ Warning: Pkg.clone is only kept for legacy CI script reasons, please use `add`\n",
      "└ @ Pkg.API /Users/osx/buildbot/slave/package_osx64/build/usr/share/julia/stdlib/v1.1/Pkg/src/API.jl:386\n"
     ]
    },
    {
     "name": "stdout",
     "output_type": "stream",
     "text": [
      "\u001b[32m\u001b[1m Resolving\u001b[22m\u001b[39m package versions...\n",
      "\u001b[32m\u001b[1m  Updating\u001b[22m\u001b[39m `~/.julia/environments/v1.1/Project.toml`\n",
      "\u001b[90m [no changes]\u001b[39m\n",
      "\u001b[32m\u001b[1m  Updating\u001b[22m\u001b[39m `~/.julia/environments/v1.1/Manifest.toml`\n",
      "\u001b[90m [no changes]\u001b[39m\n"
     ]
    },
    {
     "name": "stderr",
     "output_type": "stream",
     "text": [
      "┌ Info: Recompiling stale cache file /Users/deddy/.julia/compiled/v1.1/SatelliteTasking/HFrko.ji for SatelliteTasking [30f2e302-0ae1-11e9-1cda-0f4324764595]\n",
      "└ @ Base loading.jl:1184\n",
      "ERROR: LoadError: LoadError: ArgumentError: Package SatelliteTasking does not have Analysis in its dependencies:\n",
      "- If you have SatelliteTasking checked out for development and have\n",
      "  added Analysis as a dependency but haven't updated your primary\n",
      "  environment's manifest file, try `Pkg.resolve()`.\n",
      "- Otherwise you may need to report an issue with SatelliteTasking\n",
      "Stacktrace:\n",
      " [1] require(::Module, ::Symbol) at ./loading.jl:836\n",
      " [2] include at ./boot.jl:326 [inlined]\n",
      " [3] include_relative(::Module, ::String) at ./loading.jl:1038\n",
      " [4] include at ./sysimg.jl:29 [inlined]\n",
      " [5] include(::String) at /Users/deddy/Stanford/repos/SatelliteTasking.jl/src/SatelliteTasking.jl:2\n",
      " [6] top-level scope at none:0\n",
      " [7] include at ./boot.jl:326 [inlined]\n",
      " [8] include_relative(::Module, ::String) at ./loading.jl:1038\n",
      " [9] include(::Module, ::String) at ./sysimg.jl:29\n",
      " [10] top-level scope at none:2\n",
      " [11] eval at ./boot.jl:328 [inlined]\n",
      " [12] eval(::Expr) at ./client.jl:404\n",
      " [13] top-level scope at ./none:3\n",
      "in expression starting at /Users/deddy/Stanford/repos/SatelliteTasking.jl/src/analysis/analysis.jl:10\n",
      "in expression starting at /Users/deddy/Stanford/repos/SatelliteTasking.jl/src/SatelliteTasking.jl:16\n"
     ]
    },
    {
     "ename": "ErrorException",
     "evalue": "Failed to precompile SatelliteTasking [30f2e302-0ae1-11e9-1cda-0f4324764595] to /Users/deddy/.julia/compiled/v1.1/SatelliteTasking/HFrko.ji.",
     "output_type": "error",
     "traceback": [
      "Failed to precompile SatelliteTasking [30f2e302-0ae1-11e9-1cda-0f4324764595] to /Users/deddy/.julia/compiled/v1.1/SatelliteTasking/HFrko.ji.",
      "",
      "Stacktrace:",
      " [1] error(::String) at ./error.jl:33",
      " [2] compilecache(::Base.PkgId, ::String) at ./loading.jl:1197",
      " [3] _require(::Base.PkgId) at ./loading.jl:960",
      " [4] require(::Base.PkgId) at ./loading.jl:858",
      " [5] require(::Module, ::Symbol) at ./loading.jl:853",
      " [6] top-level scope at In[1]:16"
     ]
    }
   ],
   "source": [
    "# Package Setup\n",
    "import Pkg;\n",
    "# Pkg.update()\n",
    "\n",
    "# Julia Packages\n",
    "using Distributions\n",
    "using LinearAlgebra\n",
    "using Statistics\n",
    "using PGFPlots\n",
    "\n",
    "# Satellite Dynamics Packages\n",
    "using SatelliteDynamics\n",
    "\n",
    "# Load SatelliteTasking - Reclone to keep version current\n",
    "Pkg.clone(\"..\")\n",
    "using SatelliteTasking"
   ]
  },
  {
   "cell_type": "code",
   "execution_count": 2,
   "metadata": {},
   "outputs": [
    {
     "name": "stdout",
     "output_type": "stream",
     "text": [
      "Initial Orbital Elements: [6.87814e6, 0.0, 90.0, 0.0, 0.0, 0.0]\n",
      "Initial Inertial State: [6.87814e6, 0.0, 0.0, -0.0, 4.66138e-13, 7612.61]\n"
     ]
    },
    {
     "ename": "UndefVarError",
     "evalue": "UndefVarError: Orbit not defined",
     "output_type": "error",
     "traceback": [
      "UndefVarError: Orbit not defined",
      "",
      "Stacktrace:",
      " [1] top-level scope at util.jl:156",
      " [2] top-level scope at In[2]:11"
     ]
    }
   ],
   "source": [
    "# Configure Simulation - Epoch, True Orbit, Test Images\n",
    "\n",
    "# Simulation Horizon - 1 Day\n",
    "epc0 = Epoch(2019, 1, 1, 0, 0, 0, tsys=:UTC)\n",
    "epcf = Epoch(2019, 1, 2, 0, 0, 0, tsys=:UTC)\n",
    "\n",
    "oe  = [R_EARTH + 500e3, 0, 90.0, 0, 0, 0]\n",
    "eci = sOSCtoCART(oe, use_degrees=true)\n",
    "println(\"Initial Orbital Elements: $oe\")\n",
    "println(\"Initial Inertial State: $eci\")\n",
    "\n",
    "# Simulate Orbit \n",
    "@time orbit = Orbit(epc0, epcf, eci, dtmax=5.0);\n",
    "\n",
    "# Load Test Images\n",
    "@time images = load_images(\"../data/landsat_test.json\");"
   ]
  },
  {
   "cell_type": "code",
   "execution_count": 3,
   "metadata": {},
   "outputs": [
    {
     "ename": "UndefVarError",
     "evalue": "UndefVarError: find_all_collects not defined",
     "output_type": "error",
     "traceback": [
      "UndefVarError: find_all_collects not defined",
      "",
      "Stacktrace:",
      " [1] top-level scope at util.jl:156",
      " [2] top-level scope at In[3]:1"
     ]
    }
   ],
   "source": [
    "# Compute True Windows of Visibility\n",
    "@time true_collects = find_all_collects(orbit, images, sort=true);\n",
    "\n",
    "# # True Collect TImes:\n",
    "# for col in collects\n",
    "#     println(col)\n",
    "# end"
   ]
  },
  {
   "cell_type": "code",
   "execution_count": 4,
   "metadata": {},
   "outputs": [
    {
     "data": {
      "text/plain": [
       "FullNormal(\n",
       "dim: 6\n",
       "μ: [6.87814e6, 0.0, 0.0, -0.0, 4.66138e-13, 7612.61]\n",
       "Σ: [8.33333e6 0.0 … 0.0 0.0; 0.0 8.33333e6 … 0.0 0.0; … ; 0.0 0.0 … 8.33333 0.0; 0.0 0.0 … 0.0 8.33333]\n",
       ")\n"
      ]
     },
     "execution_count": 4,
     "metadata": {},
     "output_type": "execute_result"
    }
   ],
   "source": [
    "# Create normal distribution of position uncertainty\n",
    "\n",
    "pos_std  = 5000.0/sqrt(3.0) # 5000 #1000 # 100\n",
    "vel_std  = 5.0/sqrt(3.0) # 5 # 1 # 0.1\n",
    "orb_mean = deepcopy(eci)\n",
    "orb_cov  = diagm(0 => [pos_std^2, pos_std^2, pos_std^2, vel_std^2, vel_std^2, vel_std^2])\n",
    "dist_eci = MvNormal(orb_mean, orb_cov)\n"
   ]
  },
  {
   "cell_type": "code",
   "execution_count": 5,
   "metadata": {},
   "outputs": [
    {
     "name": "stdout",
     "output_type": "stream",
     "text": [
      "Simulating orbit: 1\n",
      "Initial ECI Error: [2729.81, 759.032, -130.073, 0.935604, -3.84891, -2.17681]\n"
     ]
    },
    {
     "ename": "UndefVarError",
     "evalue": "UndefVarError: Orbit not defined",
     "output_type": "error",
     "traceback": [
      "UndefVarError: Orbit not defined",
      "",
      "Stacktrace:",
      " [1] macro expansion at ./In[5]:18 [inlined]",
      " [2] macro expansion at ./util.jl:156 [inlined]",
      " [3] macro expansion at ./In[5]:12 [inlined]",
      " [4] macro expansion at ./util.jl:156 [inlined]",
      " [5] top-level scope at ./In[5]:9 [inlined]",
      " [6] top-level scope at ./none:0"
     ]
    }
   ],
   "source": [
    "# Generate and compute statistics for multiple orbits\n",
    "\n",
    "# Number of samples to simulate orbit uncertainty\n",
    "N_SAMPLES = 3\n",
    "\n",
    "orbits             = []\n",
    "perturbed_collects = []\n",
    "perturbed_stats    = []\n",
    "\n",
    "@time begin\n",
    "    for i in 1:N_SAMPLES\n",
    "        @time begin\n",
    "            println(\"Simulating orbit: $i\")\n",
    "            pert_eci = rand(dist_eci, 1)[:, 1]\n",
    "            println(\"Initial ECI Error: $(pert_eci - eci)\")\n",
    "            \n",
    "            # Simulate perturbed orbit\n",
    "            pert_orb = Orbit(epc0, epcf, pert_eci, dtmax=5.0)\n",
    "            push!(orbits, pert_orb)\n",
    "            \n",
    "            # Compute Collection times\n",
    "            pert_collects = find_all_collects(orbits[end], images, sort=true)\n",
    "            push!(perturbed_collects, pert_collects)\n",
    "            \n",
    "            # Compute Collection Statistics\n",
    "            col_mean, col_sdev = collect_stats(true_collects, [pert_collects])\n",
    "            push!(perturbed_stats, (col_mean, col_sdev))\n",
    "        end\n",
    "    end\n",
    "end"
   ]
  },
  {
   "cell_type": "code",
   "execution_count": 6,
   "metadata": {},
   "outputs": [
    {
     "data": {
      "text/plain": [
       "0-element Array{Any,1}"
      ]
     },
     "execution_count": 6,
     "metadata": {},
     "output_type": "execute_result"
    }
   ],
   "source": [
    "# Compute error in 24-hour bins\n",
    "ms = hcat([stats[1] for stats in perturbed_stats]...)"
   ]
  },
  {
   "cell_type": "code",
   "execution_count": 7,
   "metadata": {},
   "outputs": [
    {
     "data": {
      "text/plain": [
       "0-element Array{Any,1}"
      ]
     },
     "execution_count": 7,
     "metadata": {},
     "output_type": "execute_result"
    }
   ],
   "source": [
    "sd = hcat([stats[2] for stats in perturbed_stats]...)"
   ]
  },
  {
   "cell_type": "code",
   "execution_count": 8,
   "metadata": {},
   "outputs": [
    {
     "name": "stdout",
     "output_type": "stream",
     "text": [
      "Mean difference in collect windows: \n",
      "Standard Deviation of collect windows: \n"
     ]
    },
    {
     "ename": "ArgumentError",
     "evalue": "ArgumentError: reducing over an empty collection is not allowed",
     "output_type": "error",
     "traceback": [
      "ArgumentError: reducing over an empty collection is not allowed",
      "",
      "Stacktrace:",
      " [1] _empty_reduce_error() at ./reduce.jl:216",
      " [2] mapreduce_empty(::Function, ::Function, ::Type) at ./reduce.jl:250",
      " [3] _mapreduce(::getfield(Statistics, Symbol(\"##2#3\")), ::typeof(Base.add_sum), ::IndexLinear, ::Array{Any,1}) at ./reduce.jl:305",
      " [4] _mapreduce_dim at ./reducedim.jl:308 [inlined]",
      " [5] #mapreduce#548 at ./reducedim.jl:304 [inlined]",
      " [6] mapreduce at ./reducedim.jl:304 [inlined]",
      " [7] _sum at ./reducedim.jl:653 [inlined]",
      " [8] #sum#551 at ./reducedim.jl:649 [inlined]",
      " [9] sum at ./reducedim.jl:649 [inlined]",
      " [10] _reducedim_init(::getfield(Statistics, Symbol(\"##2#3\")), ::typeof(+), ::typeof(zero), ::typeof(sum), ::Array{Any,1}, ::Int64) at ./reducedim.jl:121",
      " [11] reducedim_init at ./reducedim.jl:109 [inlined]",
      " [12] _mean(::Array{Any,1}, ::Int64) at /Users/osx/buildbot/slave/package_osx64/build/usr/share/julia/stdlib/v1.1/Statistics/src/Statistics.jl:134",
      " [13] #mean#1 at /Users/osx/buildbot/slave/package_osx64/build/usr/share/julia/stdlib/v1.1/Statistics/src/Statistics.jl:132 [inlined]",
      " [14] (::getfield(Statistics, Symbol(\"#kw##mean\")))(::NamedTuple{(:dims,),Tuple{Int64}}, ::typeof(mean), ::Array{Any,1}) at ./none:0",
      " [15] top-level scope at In[8]:3"
     ]
    }
   ],
   "source": [
    "println(\"Mean difference in collect windows: $(transpose(ms))\")\n",
    "println(\"Standard Deviation of collect windows: $(transpose(sd))\")\n",
    "\n",
    "m_ms = mean(ms, dims=2)\n",
    "println(m_ms)\n",
    "m_sd = mean(sd, dims=2)\n",
    "println(m_sd)"
   ]
  },
  {
   "cell_type": "code",
   "execution_count": 9,
   "metadata": {},
   "outputs": [
    {
     "name": "stdout",
     "output_type": "stream",
     "text": [
      "  0.000006 seconds\n"
     ]
    },
    {
     "data": {
      "text/plain": [
       "0-element Array{Any,1}"
      ]
     },
     "execution_count": 9,
     "metadata": {},
     "output_type": "execute_result"
    }
   ],
   "source": [
    "# Analyze Collects on a per-satellite basis\n",
    "hourly_stats = []\n",
    "hourly_means = []\n",
    "hourly_stds  = []\n",
    "\n",
    "@time begin\n",
    "for collects in perturbed_collects\n",
    "    push!(hourly_means, [])\n",
    "    push!(hourly_stds, [])\n",
    "    for i in 0:23\n",
    "        # Hourly bins of windows\n",
    "        epc_window_start = epc0 + 3600*i\n",
    "        epc_window_end   = epc0 + 3600*(i+1)\n",
    "        \n",
    "#         println(\"Analysis Window: $epc_window_start - $epc_window_end\")\n",
    "\n",
    "        m, s = collect_stats(true_collects, [collects], epc_min=epc_window_start, epc_max=epc_window_end)\n",
    "        if m != nothing && s != nothing\n",
    "            push!(hourly_means[end], m)\n",
    "            push!(hourly_stds[end], s)\n",
    "#           println(m, s)\n",
    "        end\n",
    "    end\n",
    "end\n",
    "end\n",
    "\n",
    "hourly_means = [hcat(means...) for means in hourly_means]\n",
    "hourly_stds  = [hcat(stds...) for stds in hourly_stds]"
   ]
  },
  {
   "cell_type": "code",
   "execution_count": 10,
   "metadata": {},
   "outputs": [
    {
     "ename": "BoundsError",
     "evalue": "BoundsError: attempt to access 0-element Array{Any,1} at index [1]",
     "output_type": "error",
     "traceback": [
      "BoundsError: attempt to access 0-element Array{Any,1} at index [1]",
      "",
      "Stacktrace:",
      " [1] getindex(::Array{Any,1}, ::Int64) at ./array.jl:729",
      " [2] top-level scope at In[10]:1"
     ]
    }
   ],
   "source": [
    "p = plot(1:24, hourly_stds[1][3, :]);"
   ]
  },
  {
   "cell_type": "code",
   "execution_count": 11,
   "metadata": {},
   "outputs": [
    {
     "ename": "UndefVarError",
     "evalue": "UndefVarError: collect_stats not defined",
     "output_type": "error",
     "traceback": [
      "UndefVarError: collect_stats not defined",
      "",
      "Stacktrace:",
      " [1] macro expansion at ./In[11]:17 [inlined]",
      " [2] macro expansion at ./util.jl:156 [inlined]",
      " [3] top-level scope at ./In[11]:5 [inlined]",
      " [4] top-level scope at ./none:0"
     ]
    }
   ],
   "source": [
    "# Analyze Collects on a per-satellite basis\n",
    "hourly_stats = []\n",
    "hourly_means = []\n",
    "hourly_stds  = []\n",
    "\n",
    "@time begin\n",
    "# Aggregate collects across all satellites simulated\n",
    "collects = vcat(perturbed_collects...)\n",
    "    \n",
    "for i in 0:23\n",
    "    # Hourly bins of windows\n",
    "    epc_window_start = epc0 + 3600*i\n",
    "    epc_window_end   = epc0 + 3600*(i+1)\n",
    "\n",
    "#         println(\"Analysis Window: $epc_window_start - $epc_window_end\")\n",
    "\n",
    "    m, s = collect_stats(true_collects, [collects], epc_min=epc_window_start, epc_max=epc_window_end)\n",
    "    if m != nothing && s != nothing\n",
    "        push!(hourly_means, m)\n",
    "        push!(hourly_stds, s)\n",
    "#           println(m, s)\n",
    "    end\n",
    "end\n",
    "end\n",
    "\n",
    "hourly_means = hcat(hourly_means...)\n",
    "hourly_stds  = hcat(hourly_stds...)"
   ]
  },
  {
   "cell_type": "code",
   "execution_count": 12,
   "metadata": {},
   "outputs": [
    {
     "ename": "BoundsError",
     "evalue": "BoundsError: attempt to access 0-element Array{Any,1} at index [1, Base.Slice(Base.OneTo(1))]",
     "output_type": "error",
     "traceback": [
      "BoundsError: attempt to access 0-element Array{Any,1} at index [1, Base.Slice(Base.OneTo(1))]",
      "",
      "Stacktrace:",
      " [1] throw_boundserror(::Array{Any,1}, ::Tuple{Int64,Base.Slice{Base.OneTo{Int64}}}) at ./abstractarray.jl:484",
      " [2] checkbounds at ./abstractarray.jl:449 [inlined]",
      " [3] _getindex at ./multidimensional.jl:641 [inlined]",
      " [4] getindex(::Array{Any,1}, ::Int64, ::Function) at ./abstractarray.jl:927",
      " [5] top-level scope at In[12]:1"
     ]
    }
   ],
   "source": [
    "Axis(Plots.Linear(1:24, hourly_stds[1, :]), width=\"10cm\", height=\"10cm\", xlabel=\"Hour\", ylabel=\"Std of Collect Window Start Time [sec]\")"
   ]
  },
  {
   "cell_type": "code",
   "execution_count": 13,
   "metadata": {},
   "outputs": [
    {
     "ename": "BoundsError",
     "evalue": "BoundsError: attempt to access 0-element Array{Any,1} at index [1, Base.Slice(Base.OneTo(1))]",
     "output_type": "error",
     "traceback": [
      "BoundsError: attempt to access 0-element Array{Any,1} at index [1, Base.Slice(Base.OneTo(1))]",
      "",
      "Stacktrace:",
      " [1] throw_boundserror(::Array{Any,1}, ::Tuple{Int64,Base.Slice{Base.OneTo{Int64}}}) at ./abstractarray.jl:484",
      " [2] checkbounds at ./abstractarray.jl:449 [inlined]",
      " [3] _getindex at ./multidimensional.jl:641 [inlined]",
      " [4] getindex(::Array{Any,1}, ::Int64, ::Function) at ./abstractarray.jl:927",
      " [5] top-level scope at In[13]:1"
     ]
    }
   ],
   "source": [
    "Axis([\n",
    "    Plots.Linear(1:24, hourly_stds[1, :], legendentry=\"Start of Window\")\n",
    "    Plots.Linear(1:24, hourly_stds[2, :], legendentry=\"End of Window\")\n",
    "    Plots.Linear(1:24, hourly_stds[3, :], legendentry=\"Window Duration\")\n",
    "], width=\"10cm\", height=\"10cm\", legendPos=\"north west\")"
   ]
  }
 ],
 "metadata": {
  "kernelspec": {
   "display_name": "Julia 1.1.0",
   "language": "julia",
   "name": "julia-1.1"
  },
  "language_info": {
   "file_extension": ".jl",
   "mimetype": "application/julia",
   "name": "julia",
   "version": "1.1.0"
  }
 },
 "nbformat": 4,
 "nbformat_minor": 2
}
